version https://git-lfs.github.com/spec/v1
oid sha256:27c8317740fd8ef514f09fcd920836cc8fd926b0d78c856b3743bb7533be2e3f
size 10988608
