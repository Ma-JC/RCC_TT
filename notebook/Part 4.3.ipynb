version https://git-lfs.github.com/spec/v1
oid sha256:bc65d6403bb11c8b5cbf6a5de675b65a493e1eecb5f8ee5dd9202f393570c05d
size 8813484
