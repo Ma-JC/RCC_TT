version https://git-lfs.github.com/spec/v1
oid sha256:acb1f00d4c8401367a14f4cda8ecbce39a54aaf41f2f7cd0a164506917179dc6
size 3679524
